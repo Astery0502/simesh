{
 "cells": [
  {
   "cell_type": "markdown",
   "metadata": {},
   "source": [
    "## SIMESH DEMO: INTRODUCTION AND MAIN FUNCS DISPLAY"
   ]
  },
  {
   "cell_type": "markdown",
   "metadata": {},
   "source": [
    "### Data Preparations \n",
    "\n",
    "To reduce the size of the module, we do not include the datfile for display, but make a new AMRDataSet directly here with the TDm model constructed by the RBSL model (Titov et al, 2014; Titov et al. 2020)."
   ]
  },
  {
   "cell_type": "code",
   "execution_count": null,
   "metadata": {},
   "outputs": [],
   "source": [
    "# !!! It may take a while to initiate the TDm model for a large domain !!!\n",
    "\n",
    "import numpy as np\n",
    "import matplotlib.pyplot as plt\n",
    "from simesh import configurations, load_from_uarrays, amr_loader\n",
    "\n",
    "# prepare necessary parameters for initialization of a new AMRDataSet\n",
    "xmin = np.array([-4,-4,0])\n",
    "xmax = np.array([4,4,8])\n",
    "domain_nx = np.array([30,30,30])\n",
    "block_nx = np.array([10,10,10])\n",
    "\n",
    "# parameters for the TDm model\n",
    "r0 = 1.5\n",
    "a0 = 0.3\n",
    "q0 = 1.0\n",
    "L0 = 1.0\n",
    "d0 = 0.5\n",
    "naxis = 500\n",
    "ispositive = True\n",
    "\n",
    "# prepare the mesh data of domain size\n",
    "rho = np.ones(domain_nx) # uniform density just for display, no physical meaning\n",
    "v1 = np.zeros(domain_nx)\n",
    "v2 = np.zeros(domain_nx)\n",
    "v3 = np.zeros(domain_nx)\n",
    "TDm_slab = configurations.TDm_slab(xmin, xmax, domain_nx, r0, a0, ispositive, naxis, q0, L0, d0) # magnetic field b1,b2,b3 from TDm model\n",
    "\n",
    "w_arrays = np.stack([rho, v1, v2, v3, TDm_slab[2], TDm_slab[1], TDm_slab[0]], axis=-1)\n",
    "\n",
    "# display the b3 at z=0\n",
    "im1 = plt.imshow(np.rot90(TDm_slab[2,:,:,0]))\n",
    "cb1 = plt.colorbar(label='Bz at z=0')\n",
    "\n",
    "w_names = ['rho', 'v1', 'v2', 'v3', 'b1', 'b2', 'b3']\n",
    "\n",
    "# here you can specify a datfile name for further output like: file_path='example.dat'; and any other parameters by **kwargs to update the default header\n",
    "# you can view the default header by: simesh.header_template\n",
    "ds = load_from_uarrays(w_arrays, w_names, xmin, xmax, block_nx, file_path='data/tdm.dat') "
   ]
  },
  {
   "cell_type": "markdown",
   "metadata": {},
   "source": [
    "### Interfaces of the AMRDataSet"
   ]
  },
  {
   "cell_type": "markdown",
   "metadata": {},
   "source": [
    "If you here prefer to use the datfile from AMRVAC, you can use the following interfaces:"
   ]
  },
  {
   "cell_type": "code",
   "execution_count": 65,
   "metadata": {},
   "outputs": [],
   "source": [
    "# first output the datfile to prepare the datfile (same as the datfile from AMRVAC)\n",
    "ds.write_datfile()\n",
    "\n",
    "# then read from the datfile just for display, same for those from AMRVAC\n",
    "ds = amr_loader('data/tdm.dat')\n",
    "\n",
    "assert np.all(ds.mesh.udata == w_arrays), \"The data read from the datfile is not consistent with the data used to initialize the AMRDataSet\""
   ]
  },
  {
   "cell_type": "markdown",
   "metadata": {},
   "source": [
    "the header is a dictionary, it is same as the header in the datfile containing the crucial information of the mesh and simulation parameters:"
   ]
  },
  {
   "cell_type": "code",
   "execution_count": null,
   "metadata": {},
   "outputs": [],
   "source": [
    "ds.header"
   ]
  },
  {
   "cell_type": "markdown",
   "metadata": {},
   "source": [
    "since it is a slab domain, we preserve the slab version of the mesh data with the shape same as the input data:"
   ]
  },
  {
   "cell_type": "code",
   "execution_count": null,
   "metadata": {},
   "outputs": [],
   "source": [
    "ds.mesh.udata.shape"
   ]
  },
  {
   "cell_type": "markdown",
   "metadata": {},
   "source": [
    "for the AMR structured mesh data, it is stored ordered by the Morton order with shape:"
   ]
  },
  {
   "cell_type": "code",
   "execution_count": null,
   "metadata": {},
   "outputs": [],
   "source": [
    "ds.mesh.data.shape"
   ]
  },
  {
   "cell_type": "markdown",
   "metadata": {},
   "source": [
    "in which 27 is the number of blocks (3x3x3 here), (14,14,14) is (10,10,10) (block_nx) + 2 (nghostcells) * 2 (both sides), 7 is the number of physical variables"
   ]
  },
  {
   "cell_type": "markdown",
   "metadata": {},
   "source": [
    "we can get the information (indices; level; morton_number[=sfc_index+1]; is_leaf) of each block in the 27 blocks by the sfc index [0-26]:\n",
    "\n",
    "Here the indices [ig] is the index of the block in 3x3x3 level1 blocks array"
   ]
  },
  {
   "cell_type": "code",
   "execution_count": null,
   "metadata": {},
   "outputs": [],
   "source": [
    "ds.mesh.forest.sfc_to_node[2].node # note that ig is derived from node.ig1, node.ig2, node.ig3 "
   ]
  },
  {
   "cell_type": "code",
   "execution_count": null,
   "metadata": {},
   "outputs": [],
   "source": [
    "# rnode is the node attribute of the leaf node\n",
    "# xmin, ymin, zmin, xmax, ymax, zmax, dx, dy, dz for each element\n",
    "ds.mesh.rnode[:,0]"
   ]
  }
 ],
 "metadata": {
  "kernelspec": {
   "display_name": "mhdtp",
   "language": "python",
   "name": "python3"
  },
  "language_info": {
   "codemirror_mode": {
    "name": "ipython",
    "version": 3
   },
   "file_extension": ".py",
   "mimetype": "text/x-python",
   "name": "python",
   "nbconvert_exporter": "python",
   "pygments_lexer": "ipython3",
   "version": "3.12.8"
  }
 },
 "nbformat": 4,
 "nbformat_minor": 4
}
