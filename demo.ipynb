{
 "cells": [
  {
   "cell_type": "markdown",
   "metadata": {},
   "source": [
    "## SIMESH DEMO: INTRODUCTION AND MAIN FUNCS DISPLAY"
   ]
  },
  {
   "cell_type": "markdown",
   "metadata": {},
   "source": [
    "### SIMESH Interfaces \n"
   ]
  },
  {
   "cell_type": "code",
   "execution_count": 8,
   "metadata": {},
   "outputs": [
    {
     "name": "stdout",
     "output_type": "stream",
     "text": [
      "Load Clear\n"
     ]
    }
   ],
   "source": [
    "from simesh import amr_loader\n",
    "import numpy as np\n",
    "\n",
    "ds = amr_loader('data/tdm_ct.dat')"
   ]
  },
  {
   "cell_type": "code",
   "execution_count": 10,
   "metadata": {},
   "outputs": [
    {
     "data": {
      "text/plain": [
       "{'datfile_version': 5,\n",
       " 'offset_tree': 336,\n",
       " 'offset_blocks': 8040,\n",
       " 'nw': 8,\n",
       " 'ndir': 3,\n",
       " 'ndim': 3,\n",
       " 'levmax': 3,\n",
       " 'nleafs': 270,\n",
       " 'nparents': 36,\n",
       " 'it': 0,\n",
       " 'time': 0.0,\n",
       " 'xmin': array([-4., -6.,  0.]),\n",
       " 'xmax': array([ 4.,  6., 12.]),\n",
       " 'domain_nx': array([32, 48, 48]),\n",
       " 'block_nx': array([16, 16, 16]),\n",
       " 'periodic': array([False, False, False]),\n",
       " 'geometry': 'Cartesian_3D',\n",
       " 'staggered': False,\n",
       " 'w_names': ['rho', 'm1', 'm2', 'm3', 'e', 'b1', 'b2', 'b3'],\n",
       " 'physics_type': 'mhd',\n",
       " 'n_par': 1,\n",
       " 'params': array([1.66666667]),\n",
       " 'param_names': ['gamma'],\n",
       " 'snapshotnext': 1,\n",
       " 'slicenext': 0,\n",
       " 'collapsenext': 0}"
      ]
     },
     "execution_count": 10,
     "metadata": {},
     "output_type": "execute_result"
    }
   ],
   "source": [
    "ds.header"
   ]
  },
  {
   "cell_type": "code",
   "execution_count": 9,
   "metadata": {},
   "outputs": [
    {
     "data": {
      "text/plain": [
       "(array([2, 3, 3, 3, 3, 3, 3, 3, 3, 2, 3, 3, 3, 3, 3, 3, 3, 3, 2, 3, 3, 3,\n",
       "        3, 3, 3, 3, 3, 2, 3, 3, 3, 3, 3, 3, 3, 3, 3, 3, 3, 3, 3, 3, 3, 3,\n",
       "        2, 3, 3, 3, 3, 3, 3, 3, 3, 2, 3, 3, 3, 3, 3, 3, 3, 3, 2, 3, 3, 3,\n",
       "        3, 3, 3, 3, 3, 2, 2, 3, 3, 3, 3, 3, 3, 3, 3, 2, 3, 3, 3, 3, 3, 3,\n",
       "        3, 3, 2, 3, 3, 3, 3, 3, 3, 3, 3, 2, 3, 3, 3, 3, 3, 3, 3, 3, 3, 3,\n",
       "        3, 3, 3, 3, 3, 3, 2, 3, 3, 3, 3, 3, 3, 3, 3, 2, 3, 3, 3, 3, 3, 3,\n",
       "        3, 3, 2, 3, 3, 3, 3, 3, 3, 3, 3, 2, 2, 2, 2, 2, 2, 2, 2, 2, 2, 2,\n",
       "        2, 2, 2, 2, 2, 2, 2, 2, 2, 2, 2, 2, 2, 2, 2, 2, 2, 2, 2, 2, 2, 2,\n",
       "        2, 3, 3, 3, 3, 3, 3, 3, 3, 2, 3, 3, 3, 3, 3, 3, 3, 3, 2, 3, 3, 3,\n",
       "        3, 3, 3, 3, 3, 2, 3, 3, 3, 3, 3, 3, 3, 3, 3, 3, 3, 3, 3, 3, 3, 3,\n",
       "        2, 3, 3, 3, 3, 3, 3, 3, 3, 2, 3, 3, 3, 3, 3, 3, 3, 3, 2, 3, 3, 3,\n",
       "        3, 3, 3, 3, 3, 2, 2, 2, 2, 2, 2, 2, 2, 2, 2, 2, 2, 2, 2, 2, 2, 2,\n",
       "        1, 1, 1, 1, 1, 1]),\n",
       " array([[ 1,  1,  1],\n",
       "        [ 3,  1,  1],\n",
       "        [ 4,  1,  1],\n",
       "        [ 3,  2,  1],\n",
       "        [ 4,  2,  1],\n",
       "        [ 3,  1,  2],\n",
       "        [ 4,  1,  2],\n",
       "        [ 3,  2,  2],\n",
       "        [ 4,  2,  2],\n",
       "        [ 1,  2,  1],\n",
       "        [ 3,  3,  1],\n",
       "        [ 4,  3,  1],\n",
       "        [ 3,  4,  1],\n",
       "        [ 4,  4,  1],\n",
       "        [ 3,  3,  2],\n",
       "        [ 4,  3,  2],\n",
       "        [ 3,  4,  2],\n",
       "        [ 4,  4,  2],\n",
       "        [ 1,  1,  2],\n",
       "        [ 3,  1,  3],\n",
       "        [ 4,  1,  3],\n",
       "        [ 3,  2,  3],\n",
       "        [ 4,  2,  3],\n",
       "        [ 3,  1,  4],\n",
       "        [ 4,  1,  4],\n",
       "        [ 3,  2,  4],\n",
       "        [ 4,  2,  4],\n",
       "        [ 1,  2,  2],\n",
       "        [ 3,  3,  3],\n",
       "        [ 4,  3,  3],\n",
       "        [ 3,  4,  3],\n",
       "        [ 4,  4,  3],\n",
       "        [ 3,  3,  4],\n",
       "        [ 4,  3,  4],\n",
       "        [ 3,  4,  4],\n",
       "        [ 4,  4,  4],\n",
       "        [ 5,  1,  1],\n",
       "        [ 6,  1,  1],\n",
       "        [ 5,  2,  1],\n",
       "        [ 6,  2,  1],\n",
       "        [ 5,  1,  2],\n",
       "        [ 6,  1,  2],\n",
       "        [ 5,  2,  2],\n",
       "        [ 6,  2,  2],\n",
       "        [ 4,  1,  1],\n",
       "        [ 5,  3,  1],\n",
       "        [ 6,  3,  1],\n",
       "        [ 5,  4,  1],\n",
       "        [ 6,  4,  1],\n",
       "        [ 5,  3,  2],\n",
       "        [ 6,  3,  2],\n",
       "        [ 5,  4,  2],\n",
       "        [ 6,  4,  2],\n",
       "        [ 4,  2,  1],\n",
       "        [ 5,  1,  3],\n",
       "        [ 6,  1,  3],\n",
       "        [ 5,  2,  3],\n",
       "        [ 6,  2,  3],\n",
       "        [ 5,  1,  4],\n",
       "        [ 6,  1,  4],\n",
       "        [ 5,  2,  4],\n",
       "        [ 6,  2,  4],\n",
       "        [ 4,  1,  2],\n",
       "        [ 5,  3,  3],\n",
       "        [ 6,  3,  3],\n",
       "        [ 5,  4,  3],\n",
       "        [ 6,  4,  3],\n",
       "        [ 5,  3,  4],\n",
       "        [ 6,  3,  4],\n",
       "        [ 5,  4,  4],\n",
       "        [ 6,  4,  4],\n",
       "        [ 4,  2,  2],\n",
       "        [ 1,  3,  1],\n",
       "        [ 3,  5,  1],\n",
       "        [ 4,  5,  1],\n",
       "        [ 3,  6,  1],\n",
       "        [ 4,  6,  1],\n",
       "        [ 3,  5,  2],\n",
       "        [ 4,  5,  2],\n",
       "        [ 3,  6,  2],\n",
       "        [ 4,  6,  2],\n",
       "        [ 1,  4,  1],\n",
       "        [ 3,  7,  1],\n",
       "        [ 4,  7,  1],\n",
       "        [ 3,  8,  1],\n",
       "        [ 4,  8,  1],\n",
       "        [ 3,  7,  2],\n",
       "        [ 4,  7,  2],\n",
       "        [ 3,  8,  2],\n",
       "        [ 4,  8,  2],\n",
       "        [ 1,  3,  2],\n",
       "        [ 3,  5,  3],\n",
       "        [ 4,  5,  3],\n",
       "        [ 3,  6,  3],\n",
       "        [ 4,  6,  3],\n",
       "        [ 3,  5,  4],\n",
       "        [ 4,  5,  4],\n",
       "        [ 3,  6,  4],\n",
       "        [ 4,  6,  4],\n",
       "        [ 1,  4,  2],\n",
       "        [ 3,  7,  3],\n",
       "        [ 4,  7,  3],\n",
       "        [ 3,  8,  3],\n",
       "        [ 4,  8,  3],\n",
       "        [ 3,  7,  4],\n",
       "        [ 4,  7,  4],\n",
       "        [ 3,  8,  4],\n",
       "        [ 4,  8,  4],\n",
       "        [ 5,  5,  1],\n",
       "        [ 6,  5,  1],\n",
       "        [ 5,  6,  1],\n",
       "        [ 6,  6,  1],\n",
       "        [ 5,  5,  2],\n",
       "        [ 6,  5,  2],\n",
       "        [ 5,  6,  2],\n",
       "        [ 6,  6,  2],\n",
       "        [ 4,  3,  1],\n",
       "        [ 5,  7,  1],\n",
       "        [ 6,  7,  1],\n",
       "        [ 5,  8,  1],\n",
       "        [ 6,  8,  1],\n",
       "        [ 5,  7,  2],\n",
       "        [ 6,  7,  2],\n",
       "        [ 5,  8,  2],\n",
       "        [ 6,  8,  2],\n",
       "        [ 4,  4,  1],\n",
       "        [ 5,  5,  3],\n",
       "        [ 6,  5,  3],\n",
       "        [ 5,  6,  3],\n",
       "        [ 6,  6,  3],\n",
       "        [ 5,  5,  4],\n",
       "        [ 6,  5,  4],\n",
       "        [ 5,  6,  4],\n",
       "        [ 6,  6,  4],\n",
       "        [ 4,  3,  2],\n",
       "        [ 5,  7,  3],\n",
       "        [ 6,  7,  3],\n",
       "        [ 5,  8,  3],\n",
       "        [ 6,  8,  3],\n",
       "        [ 5,  7,  4],\n",
       "        [ 6,  7,  4],\n",
       "        [ 5,  8,  4],\n",
       "        [ 6,  8,  4],\n",
       "        [ 4,  4,  2],\n",
       "        [ 1,  1,  3],\n",
       "        [ 2,  1,  3],\n",
       "        [ 1,  2,  3],\n",
       "        [ 2,  2,  3],\n",
       "        [ 1,  1,  4],\n",
       "        [ 2,  1,  4],\n",
       "        [ 1,  2,  4],\n",
       "        [ 2,  2,  4],\n",
       "        [ 3,  1,  3],\n",
       "        [ 4,  1,  3],\n",
       "        [ 3,  2,  3],\n",
       "        [ 4,  2,  3],\n",
       "        [ 3,  1,  4],\n",
       "        [ 4,  1,  4],\n",
       "        [ 3,  2,  4],\n",
       "        [ 4,  2,  4],\n",
       "        [ 1,  3,  3],\n",
       "        [ 2,  3,  3],\n",
       "        [ 1,  4,  3],\n",
       "        [ 2,  4,  3],\n",
       "        [ 1,  3,  4],\n",
       "        [ 2,  3,  4],\n",
       "        [ 1,  4,  4],\n",
       "        [ 2,  4,  4],\n",
       "        [ 3,  3,  3],\n",
       "        [ 4,  3,  3],\n",
       "        [ 3,  4,  3],\n",
       "        [ 4,  4,  3],\n",
       "        [ 3,  3,  4],\n",
       "        [ 4,  3,  4],\n",
       "        [ 3,  4,  4],\n",
       "        [ 4,  4,  4],\n",
       "        [ 1,  5,  1],\n",
       "        [ 3,  9,  1],\n",
       "        [ 4,  9,  1],\n",
       "        [ 3, 10,  1],\n",
       "        [ 4, 10,  1],\n",
       "        [ 3,  9,  2],\n",
       "        [ 4,  9,  2],\n",
       "        [ 3, 10,  2],\n",
       "        [ 4, 10,  2],\n",
       "        [ 1,  6,  1],\n",
       "        [ 3, 11,  1],\n",
       "        [ 4, 11,  1],\n",
       "        [ 3, 12,  1],\n",
       "        [ 4, 12,  1],\n",
       "        [ 3, 11,  2],\n",
       "        [ 4, 11,  2],\n",
       "        [ 3, 12,  2],\n",
       "        [ 4, 12,  2],\n",
       "        [ 1,  5,  2],\n",
       "        [ 3,  9,  3],\n",
       "        [ 4,  9,  3],\n",
       "        [ 3, 10,  3],\n",
       "        [ 4, 10,  3],\n",
       "        [ 3,  9,  4],\n",
       "        [ 4,  9,  4],\n",
       "        [ 3, 10,  4],\n",
       "        [ 4, 10,  4],\n",
       "        [ 1,  6,  2],\n",
       "        [ 3, 11,  3],\n",
       "        [ 4, 11,  3],\n",
       "        [ 3, 12,  3],\n",
       "        [ 4, 12,  3],\n",
       "        [ 3, 11,  4],\n",
       "        [ 4, 11,  4],\n",
       "        [ 3, 12,  4],\n",
       "        [ 4, 12,  4],\n",
       "        [ 5,  9,  1],\n",
       "        [ 6,  9,  1],\n",
       "        [ 5, 10,  1],\n",
       "        [ 6, 10,  1],\n",
       "        [ 5,  9,  2],\n",
       "        [ 6,  9,  2],\n",
       "        [ 5, 10,  2],\n",
       "        [ 6, 10,  2],\n",
       "        [ 4,  5,  1],\n",
       "        [ 5, 11,  1],\n",
       "        [ 6, 11,  1],\n",
       "        [ 5, 12,  1],\n",
       "        [ 6, 12,  1],\n",
       "        [ 5, 11,  2],\n",
       "        [ 6, 11,  2],\n",
       "        [ 5, 12,  2],\n",
       "        [ 6, 12,  2],\n",
       "        [ 4,  6,  1],\n",
       "        [ 5,  9,  3],\n",
       "        [ 6,  9,  3],\n",
       "        [ 5, 10,  3],\n",
       "        [ 6, 10,  3],\n",
       "        [ 5,  9,  4],\n",
       "        [ 6,  9,  4],\n",
       "        [ 5, 10,  4],\n",
       "        [ 6, 10,  4],\n",
       "        [ 4,  5,  2],\n",
       "        [ 5, 11,  3],\n",
       "        [ 6, 11,  3],\n",
       "        [ 5, 12,  3],\n",
       "        [ 6, 12,  3],\n",
       "        [ 5, 11,  4],\n",
       "        [ 6, 11,  4],\n",
       "        [ 5, 12,  4],\n",
       "        [ 6, 12,  4],\n",
       "        [ 4,  6,  2],\n",
       "        [ 1,  5,  3],\n",
       "        [ 2,  5,  3],\n",
       "        [ 1,  6,  3],\n",
       "        [ 2,  6,  3],\n",
       "        [ 1,  5,  4],\n",
       "        [ 2,  5,  4],\n",
       "        [ 1,  6,  4],\n",
       "        [ 2,  6,  4],\n",
       "        [ 3,  5,  3],\n",
       "        [ 4,  5,  3],\n",
       "        [ 3,  6,  3],\n",
       "        [ 4,  6,  3],\n",
       "        [ 3,  5,  4],\n",
       "        [ 4,  5,  4],\n",
       "        [ 3,  6,  4],\n",
       "        [ 4,  6,  4],\n",
       "        [ 1,  1,  3],\n",
       "        [ 2,  1,  3],\n",
       "        [ 1,  2,  3],\n",
       "        [ 2,  2,  3],\n",
       "        [ 1,  3,  3],\n",
       "        [ 2,  3,  3]]),\n",
       " array([    8040,   270208,   532376,   794544,  1056712,  1318880,\n",
       "         1581048,  1843216,  2105384,  2367552,  2629720,  2891888,\n",
       "         3154056,  3416224,  3678392,  3940560,  4202728,  4464896,\n",
       "         4727064,  4989232,  5251400,  5513568,  5775736,  6037904,\n",
       "         6300072,  6562240,  6824408,  7086576,  7348744,  7610912,\n",
       "         7873080,  8135248,  8397416,  8659584,  8921752,  9183920,\n",
       "         9446088,  9708256,  9970424, 10232592, 10494760, 10756928,\n",
       "        11019096, 11281264, 11543432, 11805600, 12067768, 12329936,\n",
       "        12592104, 12854272, 13116440, 13378608, 13640776, 13902944,\n",
       "        14165112, 14427280, 14689448, 14951616, 15213784, 15475952,\n",
       "        15738120, 16000288, 16262456, 16524624, 16786792, 17048960,\n",
       "        17311128, 17573296, 17835464, 18097632, 18359800, 18621968,\n",
       "        18884136, 19146304, 19408472, 19670640, 19932808, 20194976,\n",
       "        20457144, 20719312, 20981480, 21243648, 21505816, 21767984,\n",
       "        22030152, 22292320, 22554488, 22816656, 23078824, 23340992,\n",
       "        23603160, 23865328, 24127496, 24389664, 24651832, 24914000,\n",
       "        25176168, 25438336, 25700504, 25962672, 26224840, 26487008,\n",
       "        26749176, 27011344, 27273512, 27535680, 27797848, 28060016,\n",
       "        28322184, 28584352, 28846520, 29108688, 29370856, 29633024,\n",
       "        29895192, 30157360, 30419528, 30681696, 30943864, 31206032,\n",
       "        31468200, 31730368, 31992536, 32254704, 32516872, 32779040,\n",
       "        33041208, 33303376, 33565544, 33827712, 34089880, 34352048,\n",
       "        34614216, 34876384, 35138552, 35400720, 35662888, 35925056,\n",
       "        36187224, 36449392, 36711560, 36973728, 37235896, 37498064,\n",
       "        37760232, 38022400, 38284568, 38546736, 38808904, 39071072,\n",
       "        39333240, 39595408, 39857576, 40119744, 40381912, 40644080,\n",
       "        40906248, 41168416, 41430584, 41692752, 41954920, 42217088,\n",
       "        42479256, 42741424, 43003592, 43265760, 43527928, 43790096,\n",
       "        44052264, 44314432, 44576600, 44838768, 45100936, 45363104,\n",
       "        45625272, 45887440, 46149608, 46411776, 46673944, 46936112,\n",
       "        47198280, 47460448, 47722616, 47984784, 48246952, 48509120,\n",
       "        48771288, 49033456, 49295624, 49557792, 49819960, 50082128,\n",
       "        50344296, 50606464, 50868632, 51130800, 51392968, 51655136,\n",
       "        51917304, 52179472, 52441640, 52703808, 52965976, 53228144,\n",
       "        53490312, 53752480, 54014648, 54276816, 54538984, 54801152,\n",
       "        55063320, 55325488, 55587656, 55849824, 56111992, 56374160,\n",
       "        56636328, 56898496, 57160664, 57422832, 57685000, 57947168,\n",
       "        58209336, 58471504, 58733672, 58995840, 59258008, 59520176,\n",
       "        59782344, 60044512, 60306680, 60568848, 60831016, 61093184,\n",
       "        61355352, 61617520, 61879688, 62141856, 62404024, 62666192,\n",
       "        62928360, 63190528, 63452696, 63714864, 63977032, 64239200,\n",
       "        64501368, 64763536, 65025704, 65287872, 65550040, 65812208,\n",
       "        66074376, 66336544, 66598712, 66860880, 67123048, 67385216,\n",
       "        67647384, 67909552, 68171720, 68433888, 68696056, 68958224,\n",
       "        69220392, 69482560, 69744728, 70006896, 70269064, 70531232]))"
      ]
     },
     "execution_count": 9,
     "metadata": {},
     "output_type": "execute_result"
    }
   ],
   "source": [
    "ds.tree"
   ]
  },
  {
   "cell_type": "code",
   "execution_count": 9,
   "metadata": {},
   "outputs": [
    {
     "data": {
      "text/plain": [
       "OctreeNode(ig=(0,0,0), level=2, morton=1, leaf=True)"
      ]
     },
     "execution_count": 9,
     "metadata": {},
     "output_type": "execute_result"
    }
   ],
   "source": [
    "# sfc_to_node is a list of OctreeNodePointer, each pointer points to a leaf node\n",
    "# The sequence of sfc_to_node is the sequence of leaf nodes in the Morton order\n",
    "ds.mesh.forest.sfc_to_node[0].node"
   ]
  },
  {
   "cell_type": "code",
   "execution_count": 15,
   "metadata": {},
   "outputs": [
    {
     "data": {
      "text/plain": [
       "array([-2. , -2. ,  0. , -1. , -1. ,  1. ,  0.1,  0.1,  0.1])"
      ]
     },
     "execution_count": 15,
     "metadata": {},
     "output_type": "execute_result"
    }
   ],
   "source": [
    "# rnode is the node attribute of the leaf node\n",
    "# xmin, ymin, zmin, xmax, ymax, zmax, dx, dy, dz for each element\n",
    "ds.mesh.rnode[:,0]"
   ]
  },
  {
   "cell_type": "code",
   "execution_count": 10,
   "metadata": {},
   "outputs": [
    {
     "name": "stdout",
     "output_type": "stream",
     "text": [
      "(92, 14, 14, 14, 7)\n"
     ]
    }
   ],
   "source": [
    "assert ds.mesh.data.shape[0] == ds.header['nleafs'], \"Number of leaf blocks data contained.\"\n",
    "assert np.all(ds.mesh.data.shape[1:4] == ds.header['block_nx'] + 4), \"Assert 2 ghostcells at each side.\"\n",
    "assert ds.mesh.data.shape[4] == len(ds.header['w_names']), \"Number of variables loaded.\"\n",
    "\n",
    "print(ds.mesh.data.shape)"
   ]
  },
  {
   "cell_type": "markdown",
   "metadata": {},
   "source": [
    "### Basic I/O and DISPLAY"
   ]
  },
  {
   "cell_type": "code",
   "execution_count": 22,
   "metadata": {},
   "outputs": [
    {
     "name": "stdout",
     "output_type": "stream",
     "text": [
      "Load Clear\n"
     ]
    }
   ],
   "source": [
    "import matplotlib.pyplot as plt\n",
    "from matplotlib.colors import LogNorm\n",
    "import numpy as np\n",
    "\n",
    "\"\"\"\n",
    "Note that the load and update process may take a while when the block number is large.\n",
    "This will be optimized in the future.\n",
    "\"\"\"\n",
    "\n",
    "ds = amr_loader('data/tdm_ct.dat')\n",
    "ds.update()"
   ]
  },
  {
   "cell_type": "code",
   "execution_count": 23,
   "metadata": {},
   "outputs": [
    {
     "data": {
      "text/plain": [
       "{'datfile_version': 5,\n",
       " 'offset_tree': 320,\n",
       " 'offset_blocks': 2944,\n",
       " 'nw': 7,\n",
       " 'ndir': 3,\n",
       " 'ndim': 3,\n",
       " 'levmax': 3,\n",
       " 'nleafs': 92,\n",
       " 'nparents': 12,\n",
       " 'it': 0,\n",
       " 'time': 0.0,\n",
       " 'xmin': array([-2., -2.,  0.]),\n",
       " 'xmax': array([2., 2., 4.]),\n",
       " 'domain_nx': array([20, 20, 20]),\n",
       " 'block_nx': array([10, 10, 10]),\n",
       " 'periodic': array([False, False, False]),\n",
       " 'geometry': 'Cartesian_3D',\n",
       " 'staggered': True,\n",
       " 'w_names': ['rho', 'm1', 'm2', 'm3', 'b1', 'b2', 'b3'],\n",
       " 'physics_type': 'mhd',\n",
       " 'n_par': 1,\n",
       " 'params': array([1.66666667]),\n",
       " 'param_names': ['gamma'],\n",
       " 'snapshotnext': 1,\n",
       " 'slicenext': 0,\n",
       " 'collapsenext': 0}"
      ]
     },
     "execution_count": 23,
     "metadata": {},
     "output_type": "execute_result"
    }
   ],
   "source": [
    "ds.header"
   ]
  },
  {
   "cell_type": "code",
   "execution_count": 74,
   "metadata": {},
   "outputs": [],
   "source": [
    "# Load uniform current from the mesh\n",
    "ni = 100\n",
    "ds.mesh.load_current()\n",
    "slab_current = ds.mesh.export_uniform_current([-1,-1,0], [1,1,2],ni,ni,ni)\n",
    "\n",
    "# Load all uniform field data from the mesh\n",
    "slab_all     = ds.mesh.export_slab_uniform([-1,-1,0], [1,1,2],ni,ni,ni)"
   ]
  },
  {
   "cell_type": "code",
   "execution_count": 87,
   "metadata": {},
   "outputs": [
    {
     "data": {
      "text/plain": [
       "<matplotlib.image.AxesImage at 0x24e83545100>"
      ]
     },
     "execution_count": 87,
     "metadata": {},
     "output_type": "execute_result"
    },
    {
     "data": {
      "image/png": "[encoded data removed]",
      "text/plain": [
       "<Figure size 640x480 with 1 Axes>"
      ]
     },
     "metadata": {},
     "output_type": "display_data"
    }
   ],
   "source": [
    "plt.imshow(np.rot90(abs(slab_current[:,30,:,1])), norm=LogNorm())"
   ]
  },
  {
   "cell_type": "code",
   "execution_count": 86,
   "metadata": {},
   "outputs": [
    {
     "data": {
      "text/plain": [
       "<matplotlib.image.AxesImage at 0x24e83163bf0>"
      ]
     },
     "execution_count": 86,
     "metadata": {},
     "output_type": "execute_result"
    },
    {
     "data": {
      "image/png": "[encoded data removed]",
      "text/plain": [
       "<Figure size 640x480 with 1 Axes>"
      ]
     },
     "metadata": {},
     "output_type": "display_data"
    }
   ],
   "source": [
    "plt.imshow(np.rot90(slab_all[:,50,:,0])) # rho"
   ]
  },
  {
   "cell_type": "code",
   "execution_count": 14,
   "metadata": {},
   "outputs": [
    {
     "name": "stdout",
     "output_type": "stream",
     "text": [
      "Write the dataset to the file successfully:  data/uni0000.dat\n"
     ]
    }
   ],
   "source": [
    "from simesh.frontends.amrvac.io import load_from_uarrays\n",
    "from simesh import amr_loader\n",
    "import numpy as np\n",
    "\n",
    "nw_arrays = np.ones((120, 60, 60, 8)) * 10\n",
    "\n",
    "ds = load_from_uarrays(nw_arrays, ['rho', 'v1', 'v2', 'v3', 'e', 'b1', 'b2', 'b3'], [-2.,-1.,0.], [2.,1.,2.], [20,20,20], 'data/uni0000.dat')\n",
    "ds.write_datfile('data/uni0000.dat')"
   ]
  }
 ],
 "metadata": {
  "kernelspec": {
   "display_name": "mhdtp",
   "language": "python",
   "name": "python3"
  },
  "language_info": {
   "codemirror_mode": {
    "name": "ipython",
    "version": 3
   },
   "file_extension": ".py",
   "mimetype": "text/x-python",
   "name": "python",
   "nbconvert_exporter": "python",
   "pygments_lexer": "ipython3",
   "version": "3.12.8"
  }
 },
 "nbformat": 4,
 "nbformat_minor": 4
}
